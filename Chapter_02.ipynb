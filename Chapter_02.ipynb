{
 "cells": [
  {
   "cell_type": "markdown",
   "metadata": {
    "application/vnd.databricks.v1+cell": {
     "cellMetadata": {},
     "inputWidgets": {},
     "nuid": "3ef146dd-156e-4fd7-8192-4e60c874a06e",
     "showTitle": false,
     "tableResultSettingsMap": {},
     "title": ""
    }
   },
   "source": [
    "<a target=\"_blank\" href=\"https://colab.research.google.com/github/PacktPublishing/Building-Agentic-AI-Systems/blob/main/Chapter_02.ipynb\">\n",
    "  <img src=\"https://colab.research.google.com/assets/colab-badge.svg\" alt=\"Open In Colab\"/>\n",
    "</a>\n",
    "\n",
    "# Chapter 2: Principles of Agentic Systems\n",
    "---\n",
    "\n",
    "### Implementing Algorithm 1: Travel Booking Assistant Algorithm with Agency and Autonomy\n",
    "\n",
    "This is a simple Python implementation of Algorithm 1 in Chapter 2.\n",
    "\n",
    "test test"
   ]
  },
  {
   "cell_type": "code",
   "execution_count": 0,
   "metadata": {
    "application/vnd.databricks.v1+cell": {
     "cellMetadata": {
      "byteLimit": 2048000,
      "rowLimit": 10000
     },
     "inputWidgets": {},
     "nuid": "1ed7ebd3-3189-49b2-83b9-a238fb011dc0",
     "showTitle": false,
     "tableResultSettingsMap": {},
     "title": ""
    }
   },
   "outputs": [],
   "source": [
    "from travel_provider import travel_provider\n",
    "from typing import List, Dict, Any\n",
    "\n",
    "#comment \n",
    "\n",
    "class TravelAgent:\n",
    "    def __init__(self, name: str):\n",
    "        self.name = name\n",
    "        self.goals: List[str] = []\n",
    "        self.knowledge_base: Dict[str, Any] = {}\n",
    "\n",
    "    def set_goal(self, goal: str):\n",
    "        \"\"\"Agency: Defining objectives\"\"\"\n",
    "        self.goals.append(goal)\n",
    "        print(f\"Goal set: {goal}\")\n",
    "\n",
    "    def update_knowledge(self, departure: str, destination: str):\n",
    "        \"\"\"Agency: Acquiring information from an API, and scoring\"\"\"\n",
    "        # Simulating API call to get flight options\n",
    "        response = travel_provider.flight_lookup(departure, destination)\n",
    "        if response['status_code'] == 200:\n",
    "            flight_options = response['flight_options']\n",
    "            # Simple scoring based on price (lower is better)\n",
    "            scored_options = [\n",
    "                {**flight, 'score': 1000 / flight['price']} \n",
    "                for flight in flight_options\n",
    "            ]\n",
    "            self.knowledge_base['flight_options'] = scored_options\n",
    "            print(f\"Knowledge updated with {len(scored_options)} flight options\")\n",
    "        else:\n",
    "            print(\"Failed to fetch flight information\")\n",
    "\n",
    "    def make_decision(self) -> Dict[str, Any]:\n",
    "        \"\"\"Autonomy: Independent decision-making\"\"\"\n",
    "        if 'flight_options' not in self.knowledge_base:\n",
    "            raise ValueError(\"No flight options available for decision-making\")\n",
    "        best_option = max(self.knowledge_base['flight_options'], key=lambda x: x['score'])\n",
    "        print(f\"Decision made: Selected flight {best_option['airline']}\")\n",
    "        return best_option\n",
    "\n",
    "    def book_travel(self, departure: str, destination: str):\n",
    "        \"\"\"Agency: Execute action on behalf of user\"\"\"\n",
    "        print(f\"Agent {self.name} is booking travel from {departure} to {destination}\")\n",
    "        \n",
    "        self.set_goal(f\"Book flight from {departure} to {destination}\")\n",
    "        self.update_knowledge(departure, destination)\n",
    "        \n",
    "        try:\n",
    "            best_flight = self.make_decision()\n",
    "            # Simulating booking process\n",
    "            booking_confirmation = f\"BOOK-{best_flight['airline']}-{self.name.upper()}\"\n",
    "            self.knowledge_base['booking_confirmation'] = booking_confirmation\n",
    "            print(f\"Booking confirmed: {booking_confirmation}\")\n",
    "        except Exception as e:\n",
    "            print(f\"Booking failed: {str(e)}\")\n",
    "\n",
    "        return self\n",
    "\n",
    "# Usage example\n",
    "if __name__ == \"__main__\":\n",
    "    agent = TravelAgent(\"TripPlanner\")\n",
    "    agent.book_travel(\"SAN\", \"SEA\")\n",
    "    print(\"\\n----------- Final Agent State: -----------\")\n",
    "    print(f\"Name: {agent.name}\")\n",
    "    print(f\"Goals: {agent.goals}\")\n",
    "    print(f\"Knowledge Base: {agent.knowledge_base}\")\n",
    "    if 'booking_confirmation' in agent.knowledge_base:\n",
    "        print(f\"Booking Confirmation: {agent.knowledge_base['booking_confirmation']}\")"
   ]
  },
  {
   "cell_type": "code",
   "execution_count": 0,
   "metadata": {
    "application/vnd.databricks.v1+cell": {
     "cellMetadata": {},
     "inputWidgets": {},
     "nuid": "40cc2400-b57f-470f-add4-329dde2d436e",
     "showTitle": false,
     "tableResultSettingsMap": {},
     "title": ""
    }
   },
   "outputs": [],
   "source": []
  }
 ],
 "metadata": {
  "application/vnd.databricks.v1+notebook": {
   "computePreferences": null,
   "dashboards": [],
   "environmentMetadata": null,
   "language": "python",
   "notebookMetadata": {
    "pythonIndentUnit": 4
   },
   "notebookName": "Chapter_02",
   "widgets": {}
  },
  "kernelspec": {
   "display_name": "packt_book",
   "language": "python",
   "name": "python3"
  },
  "language_info": {
   "name": "python"
  }
 },
 "nbformat": 4,
 "nbformat_minor": 0
}
